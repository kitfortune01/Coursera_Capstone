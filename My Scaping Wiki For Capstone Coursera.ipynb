{
 "cells": [
  {
   "cell_type": "markdown",
   "metadata": {},
   "source": [
    "## inport package that need to use"
   ]
  },
  {
   "cell_type": "code",
   "execution_count": 1,
   "metadata": {},
   "outputs": [],
   "source": [
    "#!pip install mediawikiapi\n",
    "import pandas as pd\n",
    "import numpy as np\n",
    "from bs4 import BeautifulSoup\n",
    "from mediawikiapi import MediaWikiAPI"
   ]
  },
  {
   "cell_type": "markdown",
   "metadata": {},
   "source": [
    "## set page wikipedi that need to scrape from Assignment"
   ]
  },
  {
   "cell_type": "code",
   "execution_count": 2,
   "metadata": {},
   "outputs": [],
   "source": [
    "PageWithTables = 'List_of_postal_codes_of_Canada:_M'\n",
    "# load page \n",
    "mediawikiapi = MediaWikiAPI()\n",
    "test_page = mediawikiapi.page(PageWithTables)\n"
   ]
  },
  {
   "cell_type": "markdown",
   "metadata": {},
   "source": [
    "## Functions to get data table then convert to pandas data frame"
   ]
  },
  {
   "cell_type": "code",
   "execution_count": 3,
   "metadata": {},
   "outputs": [],
   "source": [
    "def wikitable_to_dataframe(table):\n",
    "    \"\"\"\n",
    "    Exports a Wikipedia table parsed by BeautifulSoup. Deals with spanning: \n",
    "    multirow and multicolumn should format as expected. \n",
    "    \"\"\" \n",
    "    rows=table.findAll(\"tr\")\n",
    "    nrows=len(rows)\n",
    "    ncols=max([len(r.findAll(['th','td'])) for r in rows])\n",
    "\n",
    "    # preallocate table structure\n",
    "    # (this is required because we need to move forward in the table\n",
    "    # structure once we've found a row span)\n",
    "    data=[]\n",
    "    for i in range(nrows):\n",
    "        rowD=[]\n",
    "        for j in range(ncols):\n",
    "            rowD.append('')\n",
    "        data.append(rowD)\n",
    "\n",
    "    # fill the table with data:\n",
    "    # move across cells and use span to fill extra cells\n",
    "    for i,row in enumerate(rows):    \n",
    "        cells = row.findAll([\"td\",\"th\"])\n",
    "        for j,cell in enumerate(cells):        \n",
    "            cspan=int(cell.get('colspan',1))\n",
    "            rspan=int(cell.get('rowspan',1))\n",
    "            l = 0\n",
    "            for k in range(rspan):\n",
    "                # Shifts to the first empty cell of this row\n",
    "                # Avoid replacing previously insterted content\n",
    "                while data[i+k][j+l]:\n",
    "                    l+=1\n",
    "                for m in range(cspan):\n",
    "                    data[i+k][j+l+m]+=cell.text.strip(\"\\n\")\n",
    "\n",
    "    return pd.DataFrame(data=data[1:],columns=data[0])"
   ]
  },
  {
   "cell_type": "markdown",
   "metadata": {},
   "source": [
    "## use BeautifulSoup to transfrom html from wikipedia then find table that we interesting and send table to function"
   ]
  },
  {
   "cell_type": "code",
   "execution_count": 4,
   "metadata": {},
   "outputs": [],
   "source": [
    "# scrape the HTML with BeautifulSoup to find tables\n",
    "soup = BeautifulSoup(test_page.html(), 'html.parser')\n",
    "tables = soup.findAll(\"table\", { \"class\" : \"wikitable\" })\n",
    "\n",
    "# select target table and apply custom function to export it to pandas\n",
    "target_table = tables[0]\n",
    "df_test = wikitable_to_dataframe(target_table)"
   ]
  },
  {
   "cell_type": "markdown",
   "metadata": {},
   "source": [
    "## Clean Not assinged , Groupby then join data via Assignmet condition <br>\n",
    "### Only process the cells that have an assigned borough. Ignore cells with a borough that is Not assigned.<br>\n",
    "### These two rows will be combined into one row with the neighborhoods.<br>\n",
    "### If a cell has a borough but a Not assigned neighborhood, then the neighborhood will be the same as the borough.<br>\n",
    "\n",
    "#### only Postcode M7A  Neighbourhood is Not assigned so change it to same Borough that is Queen's Park\n"
   ]
  },
  {
   "cell_type": "code",
   "execution_count": 5,
   "metadata": {},
   "outputs": [
    {
     "data": {
      "text/html": [
       "<div>\n",
       "<style scoped>\n",
       "    .dataframe tbody tr th:only-of-type {\n",
       "        vertical-align: middle;\n",
       "    }\n",
       "\n",
       "    .dataframe tbody tr th {\n",
       "        vertical-align: top;\n",
       "    }\n",
       "\n",
       "    .dataframe thead th {\n",
       "        text-align: right;\n",
       "    }\n",
       "</style>\n",
       "<table border=\"1\" class=\"dataframe\">\n",
       "  <thead>\n",
       "    <tr style=\"text-align: right;\">\n",
       "      <th></th>\n",
       "      <th>Postcode</th>\n",
       "      <th>Borough</th>\n",
       "      <th>Neighbourhood</th>\n",
       "    </tr>\n",
       "  </thead>\n",
       "  <tbody>\n",
       "    <tr>\n",
       "      <th>0</th>\n",
       "      <td>M3A</td>\n",
       "      <td>North York</td>\n",
       "      <td>Parkwoods</td>\n",
       "    </tr>\n",
       "    <tr>\n",
       "      <th>1</th>\n",
       "      <td>M4A</td>\n",
       "      <td>North York</td>\n",
       "      <td>Victoria Village</td>\n",
       "    </tr>\n",
       "    <tr>\n",
       "      <th>2</th>\n",
       "      <td>M5A</td>\n",
       "      <td>Downtown Toronto</td>\n",
       "      <td>Harbourfront,Regent Park</td>\n",
       "    </tr>\n",
       "    <tr>\n",
       "      <th>3</th>\n",
       "      <td>M6A</td>\n",
       "      <td>North York</td>\n",
       "      <td>Lawrence Heights,Lawrence Manor</td>\n",
       "    </tr>\n",
       "    <tr>\n",
       "      <th>4</th>\n",
       "      <td>M7A</td>\n",
       "      <td>Queen's Park</td>\n",
       "      <td>Queen's Park</td>\n",
       "    </tr>\n",
       "    <tr>\n",
       "      <th>5</th>\n",
       "      <td>M9A</td>\n",
       "      <td>Etobicoke</td>\n",
       "      <td>Islington Avenue</td>\n",
       "    </tr>\n",
       "    <tr>\n",
       "      <th>6</th>\n",
       "      <td>M1B</td>\n",
       "      <td>Scarborough</td>\n",
       "      <td>Rouge,Malvern</td>\n",
       "    </tr>\n",
       "    <tr>\n",
       "      <th>7</th>\n",
       "      <td>M3B</td>\n",
       "      <td>North York</td>\n",
       "      <td>Don Mills North</td>\n",
       "    </tr>\n",
       "    <tr>\n",
       "      <th>8</th>\n",
       "      <td>M4B</td>\n",
       "      <td>East York</td>\n",
       "      <td>Woodbine Gardens,Parkview Hill</td>\n",
       "    </tr>\n",
       "    <tr>\n",
       "      <th>9</th>\n",
       "      <td>M5B</td>\n",
       "      <td>Downtown Toronto</td>\n",
       "      <td>Ryerson,Garden District</td>\n",
       "    </tr>\n",
       "    <tr>\n",
       "      <th>10</th>\n",
       "      <td>M6B</td>\n",
       "      <td>North York</td>\n",
       "      <td>Glencairn</td>\n",
       "    </tr>\n",
       "    <tr>\n",
       "      <th>11</th>\n",
       "      <td>M9B</td>\n",
       "      <td>Etobicoke</td>\n",
       "      <td>Cloverdale,Islington,Martin Grove,Princess Gar...</td>\n",
       "    </tr>\n",
       "  </tbody>\n",
       "</table>\n",
       "</div>"
      ],
      "text/plain": [
       "   Postcode           Borough  \\\n",
       "0       M3A        North York   \n",
       "1       M4A        North York   \n",
       "2       M5A  Downtown Toronto   \n",
       "3       M6A        North York   \n",
       "4       M7A      Queen's Park   \n",
       "5       M9A         Etobicoke   \n",
       "6       M1B       Scarborough   \n",
       "7       M3B        North York   \n",
       "8       M4B         East York   \n",
       "9       M5B  Downtown Toronto   \n",
       "10      M6B        North York   \n",
       "11      M9B         Etobicoke   \n",
       "\n",
       "                                        Neighbourhood  \n",
       "0                                           Parkwoods  \n",
       "1                                    Victoria Village  \n",
       "2                            Harbourfront,Regent Park  \n",
       "3                     Lawrence Heights,Lawrence Manor  \n",
       "4                                        Queen's Park  \n",
       "5                                    Islington Avenue  \n",
       "6                                       Rouge,Malvern  \n",
       "7                                     Don Mills North  \n",
       "8                      Woodbine Gardens,Parkview Hill  \n",
       "9                             Ryerson,Garden District  \n",
       "10                                          Glencairn  \n",
       "11  Cloverdale,Islington,Martin Grove,Princess Gar...  "
      ]
     },
     "execution_count": 5,
     "metadata": {},
     "output_type": "execute_result"
    }
   ],
   "source": [
    "df = df_test[df_test['Borough']!='Not assigned']\n",
    "df = df.reset_index(drop=True)\n",
    "df['Neighbourhood'] = df.groupby(['Postcode'])['Neighbourhood'].transform(lambda x: ','.join(x))\n",
    "df = df.drop_duplicates()\n",
    "df = df.reset_index(drop=True)\n",
    "#df = df[df['Neighbourhood']=='Not assigned']\n",
    "df['Neighbourhood'] = df[['Neighbourhood','Borough']].apply(lambda x: x['Neighbourhood'] if x['Neighbourhood'] !='Not assigned' else x['Borough'], axis=1)\n",
    " \n",
    "df.head(12)"
   ]
  },
  {
   "cell_type": "markdown",
   "metadata": {},
   "source": [
    "## show shape"
   ]
  },
  {
   "cell_type": "code",
   "execution_count": 6,
   "metadata": {},
   "outputs": [
    {
     "name": "stdout",
     "output_type": "stream",
     "text": [
      "(103, 3)\n"
     ]
    }
   ],
   "source": [
    "print(df.shape)"
   ]
  },
  {
   "cell_type": "code",
   "execution_count": null,
   "metadata": {},
   "outputs": [],
   "source": []
  }
 ],
 "metadata": {
  "kernelspec": {
   "display_name": "Python 3",
   "language": "python",
   "name": "python3"
  },
  "language_info": {
   "codemirror_mode": {
    "name": "ipython",
    "version": 3
   },
   "file_extension": ".py",
   "mimetype": "text/x-python",
   "name": "python",
   "nbconvert_exporter": "python",
   "pygments_lexer": "ipython3",
   "version": "3.6.5"
  }
 },
 "nbformat": 4,
 "nbformat_minor": 2
}
